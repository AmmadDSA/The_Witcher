{
 "cells": [
  {
   "cell_type": "code",
   "execution_count": 1,
   "id": "64cc0599",
   "metadata": {
    "collapsed": true
   },
   "outputs": [
    {
     "name": "stdout",
     "output_type": "stream",
     "text": [
      "Requirement already satisfied: selenium==3.141.0 in c:\\python39\\lib\\site-packages (3.141.0)\n",
      "Requirement already satisfied: urllib3 in c:\\python39\\lib\\site-packages (from selenium==3.141.0) (1.26.8)\n",
      "\n",
      "[notice] A new release of pip available: 22.1.2 -> 22.2\n",
      "[notice] To update, run: C:\\Python39\\python.exe -m pip install --upgrade pip\n",
      "Note: you may need to restart the kernel to use updated packages.\n"
     ]
    },
    {
     "name": "stderr",
     "output_type": "stream",
     "text": [
      "WARNING: Ignoring invalid distribution -acy (c:\\python39\\lib\\site-packages)\n",
      "WARNING: Ignoring invalid distribution -pacy (c:\\python39\\lib\\site-packages)\n",
      "WARNING: Ignoring invalid distribution -ip (c:\\python39\\lib\\site-packages)\n",
      "WARNING: Ignoring invalid distribution - (c:\\python39\\lib\\site-packages)\n",
      "WARNING: Ignoring invalid distribution -acy (c:\\python39\\lib\\site-packages)\n",
      "WARNING: Ignoring invalid distribution -pacy (c:\\python39\\lib\\site-packages)\n",
      "WARNING: Ignoring invalid distribution -ip (c:\\python39\\lib\\site-packages)\n",
      "WARNING: Ignoring invalid distribution - (c:\\python39\\lib\\site-packages)\n",
      "WARNING: Ignoring invalid distribution -acy (c:\\python39\\lib\\site-packages)\n",
      "WARNING: Ignoring invalid distribution -pacy (c:\\python39\\lib\\site-packages)\n",
      "WARNING: Ignoring invalid distribution -ip (c:\\python39\\lib\\site-packages)\n",
      "WARNING: Ignoring invalid distribution - (c:\\python39\\lib\\site-packages)\n",
      "WARNING: Ignoring invalid distribution -acy (c:\\python39\\lib\\site-packages)\n",
      "WARNING: Ignoring invalid distribution -pacy (c:\\python39\\lib\\site-packages)\n",
      "WARNING: Ignoring invalid distribution -ip (c:\\python39\\lib\\site-packages)\n",
      "WARNING: Ignoring invalid distribution - (c:\\python39\\lib\\site-packages)\n",
      "WARNING: Ignoring invalid distribution -acy (c:\\python39\\lib\\site-packages)\n",
      "WARNING: Ignoring invalid distribution -pacy (c:\\python39\\lib\\site-packages)\n",
      "WARNING: Ignoring invalid distribution -ip (c:\\python39\\lib\\site-packages)\n",
      "WARNING: Ignoring invalid distribution - (c:\\python39\\lib\\site-packages)\n",
      "WARNING: Ignoring invalid distribution -acy (c:\\python39\\lib\\site-packages)\n",
      "WARNING: Ignoring invalid distribution -pacy (c:\\python39\\lib\\site-packages)\n",
      "WARNING: Ignoring invalid distribution -ip (c:\\python39\\lib\\site-packages)\n",
      "WARNING: Ignoring invalid distribution - (c:\\python39\\lib\\site-packages)\n"
     ]
    }
   ],
   "source": [
    "pip install selenium==3.141.0"
   ]
  },
  {
   "cell_type": "code",
   "execution_count": 9,
   "id": "6e509033",
   "metadata": {},
   "outputs": [],
   "source": [
    "import pandas as pd\n",
    "import time\n",
    "import selenium\n",
    "from selenium import webdriver\n",
    "from webdriver_manager.chrome import ChromeDriverManager"
   ]
  },
  {
   "cell_type": "markdown",
   "id": "a8268880",
   "metadata": {},
   "source": [
    "Define driver object"
   ]
  },
  {
   "cell_type": "code",
   "execution_count": 10,
   "id": "8eaee616",
   "metadata": {
    "scrolled": true
   },
   "outputs": [
    {
     "name": "stdout",
     "output_type": "stream",
     "text": [
      "\n"
     ]
    },
    {
     "name": "stderr",
     "output_type": "stream",
     "text": [
      "[WDM] - ====== WebDriver manager ======\n",
      "[WDM] - Current google-chrome version is 103.0.5060\n",
      "[WDM] - Get LATEST chromedriver version for 103.0.5060 google-chrome\n",
      "[WDM] - Driver [C:\\Users\\ammad\\.wdm\\drivers\\chromedriver\\win32\\103.0.5060.134\\chromedriver.exe] found in cache\n"
     ]
    }
   ],
   "source": [
    "driver = webdriver.Chrome(ChromeDriverManager().install())"
   ]
  },
  {
   "cell_type": "markdown",
   "id": "288dc92c",
   "metadata": {},
   "source": [
    "Push page url to get list of charachters for the witcher book using witcher fanpage \"https://witcher.fandom.com/wiki/Category:Characters_in_the_stories\""
   ]
  },
  {
   "cell_type": "code",
   "execution_count": 11,
   "id": "c1fbf9e9",
   "metadata": {},
   "outputs": [],
   "source": [
    "page_url = \"https://witcher.fandom.com/wiki/Category:Characters_in_the_stories\"\n",
    "driver.get(page_url)"
   ]
  },
  {
   "cell_type": "markdown",
   "id": "fd403c5d",
   "metadata": {},
   "source": []
  },
  {
   "cell_type": "code",
   "execution_count": 12,
   "id": "b3eeed22",
   "metadata": {},
   "outputs": [],
   "source": [
    "book_cat = driver.find_elements_by_class_name('category-page__member-link')\n",
    "# for item in book_cat:\n",
    "#     print(item.text)\n",
    "\n",
    "# make a list \"books\" that has book name and its link\n",
    "books = []\n",
    "for item in book_cat:\n",
    "    book_name=item.text\n",
    "    link=item.get_attribute('href')\n",
    "    books.append({'Name':book_name, 'Link':link})\n",
    "\n",
    "# direct driver to book link and append the name of characheter to list \"chars\"\n",
    "# use time.sleep to allow for the page to load\n",
    "chars=[]\n",
    "for book in books:\n",
    "    driver.get(book['Link'])\n",
    "    time.sleep(2)\n",
    "    char_names= driver.find_elements_by_class_name('category-page__member-link')\n",
    "    for item in char_names:\n",
    "        chars.append({'Book':book['Name'], 'Character':item.text})\n"
   ]
  },
  {
   "cell_type": "code",
   "execution_count": 13,
   "id": "eaa303b9",
   "metadata": {},
   "outputs": [
    {
     "data": {
      "text/html": [
       "<div>\n",
       "<style scoped>\n",
       "    .dataframe tbody tr th:only-of-type {\n",
       "        vertical-align: middle;\n",
       "    }\n",
       "\n",
       "    .dataframe tbody tr th {\n",
       "        vertical-align: top;\n",
       "    }\n",
       "\n",
       "    .dataframe thead th {\n",
       "        text-align: right;\n",
       "    }\n",
       "</style>\n",
       "<table border=\"1\" class=\"dataframe\">\n",
       "  <thead>\n",
       "    <tr style=\"text-align: right;\">\n",
       "      <th></th>\n",
       "      <th>Book</th>\n",
       "      <th>Character</th>\n",
       "    </tr>\n",
       "  </thead>\n",
       "  <tbody>\n",
       "    <tr>\n",
       "      <th>0</th>\n",
       "      <td>Category:Baptism of Fire characters</td>\n",
       "      <td>Adalia</td>\n",
       "    </tr>\n",
       "    <tr>\n",
       "      <th>1</th>\n",
       "      <td>Category:Baptism of Fire characters</td>\n",
       "      <td>Adela</td>\n",
       "    </tr>\n",
       "    <tr>\n",
       "      <th>2</th>\n",
       "      <td>Category:Baptism of Fire characters</td>\n",
       "      <td>Aen Saevherne</td>\n",
       "    </tr>\n",
       "    <tr>\n",
       "      <th>3</th>\n",
       "      <td>Category:Baptism of Fire characters</td>\n",
       "      <td>Aevenien</td>\n",
       "    </tr>\n",
       "    <tr>\n",
       "      <th>4</th>\n",
       "      <td>Category:Baptism of Fire characters</td>\n",
       "      <td>Aglaïs</td>\n",
       "    </tr>\n",
       "    <tr>\n",
       "      <th>...</th>\n",
       "      <td>...</td>\n",
       "      <td>...</td>\n",
       "    </tr>\n",
       "    <tr>\n",
       "      <th>1270</th>\n",
       "      <td>Category:Time of Contempt characters</td>\n",
       "      <td>Yanna of Murivel</td>\n",
       "    </tr>\n",
       "    <tr>\n",
       "      <th>1271</th>\n",
       "      <td>Category:Time of Contempt characters</td>\n",
       "      <td>Yarpen Zigrin</td>\n",
       "    </tr>\n",
       "    <tr>\n",
       "      <th>1272</th>\n",
       "      <td>Category:Time of Contempt characters</td>\n",
       "      <td>Yennefer of Vengerberg</td>\n",
       "    </tr>\n",
       "    <tr>\n",
       "      <th>1273</th>\n",
       "      <td>Category:Time of Contempt characters</td>\n",
       "      <td>Yiolenta Suarez</td>\n",
       "    </tr>\n",
       "    <tr>\n",
       "      <th>1274</th>\n",
       "      <td>Category:Time of Contempt characters</td>\n",
       "      <td>Zyvik</td>\n",
       "    </tr>\n",
       "  </tbody>\n",
       "</table>\n",
       "<p>1275 rows × 2 columns</p>\n",
       "</div>"
      ],
      "text/plain": [
       "                                      Book               Character\n",
       "0      Category:Baptism of Fire characters                  Adalia\n",
       "1      Category:Baptism of Fire characters                   Adela\n",
       "2      Category:Baptism of Fire characters           Aen Saevherne\n",
       "3      Category:Baptism of Fire characters                Aevenien\n",
       "4      Category:Baptism of Fire characters                  Aglaïs\n",
       "...                                    ...                     ...\n",
       "1270  Category:Time of Contempt characters        Yanna of Murivel\n",
       "1271  Category:Time of Contempt characters           Yarpen Zigrin\n",
       "1272  Category:Time of Contempt characters  Yennefer of Vengerberg\n",
       "1273  Category:Time of Contempt characters         Yiolenta Suarez\n",
       "1274  Category:Time of Contempt characters                   Zyvik\n",
       "\n",
       "[1275 rows x 2 columns]"
      ]
     },
     "execution_count": 13,
     "metadata": {},
     "output_type": "execute_result"
    }
   ],
   "source": [
    "# create a dataframe and pass the list \"chars\" to it\n",
    "chardf=pd.DataFrame(chars)\n",
    "chardf"
   ]
  },
  {
   "cell_type": "code",
   "execution_count": null,
   "id": "48d630cb",
   "metadata": {},
   "outputs": [],
   "source": []
  }
 ],
 "metadata": {
  "kernelspec": {
   "display_name": "Python 3 (ipykernel)",
   "language": "python",
   "name": "python3"
  },
  "language_info": {
   "codemirror_mode": {
    "name": "ipython",
    "version": 3
   },
   "file_extension": ".py",
   "mimetype": "text/x-python",
   "name": "python",
   "nbconvert_exporter": "python",
   "pygments_lexer": "ipython3",
   "version": "3.9.6"
  }
 },
 "nbformat": 4,
 "nbformat_minor": 5
}
