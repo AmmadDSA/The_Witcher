{
 "cells": [
  {
   "cell_type": "code",
   "execution_count": 1,
   "id": "0202abda",
   "metadata": {},
   "outputs": [
    {
     "name": "stdout",
     "output_type": "stream",
     "text": [
      "Requirement already satisfied: selenium==3.141.0 in c:\\python39\\lib\\site-packages (3.141.0)\n",
      "Requirement already satisfied: urllib3 in c:\\python39\\lib\\site-packages (from selenium==3.141.0) (1.26.8)\n",
      "\n",
      "[notice] A new release of pip available: 22.1.2 -> 22.2.1\n",
      "[notice] To update, run: python.exe -m pip install --upgrade pip\n",
      "Note: you may need to restart the kernel to use updated packages.\n"
     ]
    },
    {
     "name": "stderr",
     "output_type": "stream",
     "text": [
      "WARNING: Ignoring invalid distribution -acy (c:\\python39\\lib\\site-packages)\n",
      "WARNING: Ignoring invalid distribution -pacy (c:\\python39\\lib\\site-packages)\n",
      "WARNING: Ignoring invalid distribution -ip (c:\\python39\\lib\\site-packages)\n",
      "WARNING: Ignoring invalid distribution - (c:\\python39\\lib\\site-packages)\n",
      "WARNING: Ignoring invalid distribution -acy (c:\\python39\\lib\\site-packages)\n",
      "WARNING: Ignoring invalid distribution -pacy (c:\\python39\\lib\\site-packages)\n",
      "WARNING: Ignoring invalid distribution -ip (c:\\python39\\lib\\site-packages)\n",
      "WARNING: Ignoring invalid distribution - (c:\\python39\\lib\\site-packages)\n",
      "WARNING: Ignoring invalid distribution -acy (c:\\python39\\lib\\site-packages)\n",
      "WARNING: Ignoring invalid distribution -pacy (c:\\python39\\lib\\site-packages)\n",
      "WARNING: Ignoring invalid distribution -ip (c:\\python39\\lib\\site-packages)\n",
      "WARNING: Ignoring invalid distribution - (c:\\python39\\lib\\site-packages)\n",
      "WARNING: Ignoring invalid distribution -acy (c:\\python39\\lib\\site-packages)\n",
      "WARNING: Ignoring invalid distribution -pacy (c:\\python39\\lib\\site-packages)\n",
      "WARNING: Ignoring invalid distribution -ip (c:\\python39\\lib\\site-packages)\n",
      "WARNING: Ignoring invalid distribution - (c:\\python39\\lib\\site-packages)\n",
      "WARNING: Ignoring invalid distribution -acy (c:\\python39\\lib\\site-packages)\n",
      "WARNING: Ignoring invalid distribution -pacy (c:\\python39\\lib\\site-packages)\n",
      "WARNING: Ignoring invalid distribution -ip (c:\\python39\\lib\\site-packages)\n",
      "WARNING: Ignoring invalid distribution - (c:\\python39\\lib\\site-packages)\n",
      "WARNING: Ignoring invalid distribution -acy (c:\\python39\\lib\\site-packages)\n",
      "WARNING: Ignoring invalid distribution -pacy (c:\\python39\\lib\\site-packages)\n",
      "WARNING: Ignoring invalid distribution -ip (c:\\python39\\lib\\site-packages)\n",
      "WARNING: Ignoring invalid distribution - (c:\\python39\\lib\\site-packages)\n"
     ]
    }
   ],
   "source": [
    "# pip install selenium==3.141.0\n",
    "# pip install community_louvain"
   ]
  },
  {
   "cell_type": "code",
   "execution_count": 1,
   "id": "d3f70833",
   "metadata": {},
   "outputs": [],
   "source": [
    "import pandas as pd\n",
    "import numpy as np\n",
    "import time\n",
    "import selenium\n",
    "from selenium import webdriver\n",
    "from webdriver_manager.chrome import ChromeDriverManager\n",
    "from matplotlib import pyplot as plt\n",
    "import os\n",
    "import re"
   ]
  },
  {
   "cell_type": "code",
   "execution_count": 2,
   "id": "69646561",
   "metadata": {},
   "outputs": [],
   "source": [
    "import spacy\n",
    "NER = spacy.load(\"en_core_web_sm\")"
   ]
  },
  {
   "cell_type": "code",
   "execution_count": 3,
   "id": "c34b5a01",
   "metadata": {},
   "outputs": [],
   "source": [
    "import networkx as nx\n",
    "from pyvis.network import Network\n",
    "import community as community_louvain"
   ]
  },
  {
   "cell_type": "markdown",
   "id": "ed8c3668",
   "metadata": {},
   "source": [
    "Define driver object"
   ]
  },
  {
   "cell_type": "code",
   "execution_count": 5,
   "id": "8939a1cb",
   "metadata": {
    "scrolled": true
   },
   "outputs": [
    {
     "name": "stdout",
     "output_type": "stream",
     "text": [
      "\n"
     ]
    },
    {
     "name": "stderr",
     "output_type": "stream",
     "text": [
      "[WDM] - ====== WebDriver manager ======\n",
      "[WDM] - Current google-chrome version is 103.0.5060\n",
      "[WDM] - Get LATEST chromedriver version for 103.0.5060 google-chrome\n",
      "[WDM] - Driver [C:\\Users\\ammad\\.wdm\\drivers\\chromedriver\\win32\\103.0.5060.134\\chromedriver.exe] found in cache\n"
     ]
    }
   ],
   "source": [
    "driver = webdriver.Chrome(ChromeDriverManager().install())"
   ]
  },
  {
   "cell_type": "markdown",
   "id": "3baeb856",
   "metadata": {},
   "source": [
    "Push page url to get list of charachters for the witcher book using witcher fanpage \"https://witcher.fandom.com/wiki/Category:Characters_in_the_stories\""
   ]
  },
  {
   "cell_type": "code",
   "execution_count": 6,
   "id": "f568a8c2",
   "metadata": {},
   "outputs": [],
   "source": [
    "page_url = \"https://witcher.fandom.com/wiki/Category:Characters_in_the_stories\"\n",
    "driver.get(page_url)"
   ]
  },
  {
   "cell_type": "code",
   "execution_count": 7,
   "id": "29da88b6",
   "metadata": {},
   "outputs": [],
   "source": [
    "book_cat = driver.find_elements_by_class_name('category-page__member-link')\n",
    "# for item in book_cat:\n",
    "#     print(item.text)\n",
    "\n",
    "# make a list \"books\" that has book name and its link\n",
    "books = []\n",
    "for item in book_cat:\n",
    "    book_name=item.text\n",
    "    link=item.get_attribute('href')\n",
    "    books.append({'Name':book_name, 'Link':link})\n",
    "\n",
    "# direct driver to book link and append the name of characheter to list \"chars\"\n",
    "# use time.sleep to allow for the page to load\n",
    "chars=[]\n",
    "for book in books:\n",
    "    driver.get(book['Link'])\n",
    "    time.sleep(2)\n",
    "    char_names= driver.find_elements_by_class_name('category-page__member-link')\n",
    "    for item in char_names:\n",
    "        chars.append({'Book':book['Name'], 'Character':item.text})\n"
   ]
  },
  {
   "cell_type": "code",
   "execution_count": 9,
   "id": "6c9afa5d",
   "metadata": {},
   "outputs": [
    {
     "data": {
      "text/html": [
       "<div>\n",
       "<style scoped>\n",
       "    .dataframe tbody tr th:only-of-type {\n",
       "        vertical-align: middle;\n",
       "    }\n",
       "\n",
       "    .dataframe tbody tr th {\n",
       "        vertical-align: top;\n",
       "    }\n",
       "\n",
       "    .dataframe thead th {\n",
       "        text-align: right;\n",
       "    }\n",
       "</style>\n",
       "<table border=\"1\" class=\"dataframe\">\n",
       "  <thead>\n",
       "    <tr style=\"text-align: right;\">\n",
       "      <th></th>\n",
       "      <th>Book</th>\n",
       "      <th>Character</th>\n",
       "    </tr>\n",
       "  </thead>\n",
       "  <tbody>\n",
       "    <tr>\n",
       "      <th>0</th>\n",
       "      <td>Category:Baptism of Fire characters</td>\n",
       "      <td>Adalia</td>\n",
       "    </tr>\n",
       "    <tr>\n",
       "      <th>1</th>\n",
       "      <td>Category:Baptism of Fire characters</td>\n",
       "      <td>Adela</td>\n",
       "    </tr>\n",
       "    <tr>\n",
       "      <th>2</th>\n",
       "      <td>Category:Baptism of Fire characters</td>\n",
       "      <td>Aen Saevherne</td>\n",
       "    </tr>\n",
       "    <tr>\n",
       "      <th>3</th>\n",
       "      <td>Category:Baptism of Fire characters</td>\n",
       "      <td>Aevenien</td>\n",
       "    </tr>\n",
       "    <tr>\n",
       "      <th>4</th>\n",
       "      <td>Category:Baptism of Fire characters</td>\n",
       "      <td>Aglaïs</td>\n",
       "    </tr>\n",
       "    <tr>\n",
       "      <th>...</th>\n",
       "      <td>...</td>\n",
       "      <td>...</td>\n",
       "    </tr>\n",
       "    <tr>\n",
       "      <th>1270</th>\n",
       "      <td>Category:Time of Contempt characters</td>\n",
       "      <td>Yanna of Murivel</td>\n",
       "    </tr>\n",
       "    <tr>\n",
       "      <th>1271</th>\n",
       "      <td>Category:Time of Contempt characters</td>\n",
       "      <td>Yarpen Zigrin</td>\n",
       "    </tr>\n",
       "    <tr>\n",
       "      <th>1272</th>\n",
       "      <td>Category:Time of Contempt characters</td>\n",
       "      <td>Yennefer of Vengerberg</td>\n",
       "    </tr>\n",
       "    <tr>\n",
       "      <th>1273</th>\n",
       "      <td>Category:Time of Contempt characters</td>\n",
       "      <td>Yiolenta Suarez</td>\n",
       "    </tr>\n",
       "    <tr>\n",
       "      <th>1274</th>\n",
       "      <td>Category:Time of Contempt characters</td>\n",
       "      <td>Zyvik</td>\n",
       "    </tr>\n",
       "  </tbody>\n",
       "</table>\n",
       "<p>1275 rows × 2 columns</p>\n",
       "</div>"
      ],
      "text/plain": [
       "                                      Book               Character\n",
       "0      Category:Baptism of Fire characters                  Adalia\n",
       "1      Category:Baptism of Fire characters                   Adela\n",
       "2      Category:Baptism of Fire characters           Aen Saevherne\n",
       "3      Category:Baptism of Fire characters                Aevenien\n",
       "4      Category:Baptism of Fire characters                  Aglaïs\n",
       "...                                    ...                     ...\n",
       "1270  Category:Time of Contempt characters        Yanna of Murivel\n",
       "1271  Category:Time of Contempt characters           Yarpen Zigrin\n",
       "1272  Category:Time of Contempt characters  Yennefer of Vengerberg\n",
       "1273  Category:Time of Contempt characters         Yiolenta Suarez\n",
       "1274  Category:Time of Contempt characters                   Zyvik\n",
       "\n",
       "[1275 rows x 2 columns]"
      ]
     },
     "execution_count": 9,
     "metadata": {},
     "output_type": "execute_result"
    }
   ],
   "source": [
    "# create a dataframe and pass the list \"chars\" to it\n",
    "chardf=pd.DataFrame(chars)\n",
    "chardf"
   ]
  },
  {
   "cell_type": "code",
   "execution_count": 10,
   "id": "75ffa62c",
   "metadata": {},
   "outputs": [
    {
     "data": {
      "text/plain": [
       "<function matplotlib.pyplot.show(close=None, block=None)>"
      ]
     },
     "execution_count": 10,
     "metadata": {},
     "output_type": "execute_result"
    },
    {
     "data": {
      "image/png": "[encoded data removed]",
      "text/plain": [
       "<Figure size 432x288 with 1 Axes>"
      ]
     },
     "metadata": {
      "needs_background": "light"
     },
     "output_type": "display_data"
    }
   ],
   "source": [
    "# graph number of charachters in books\n",
    "chardf['Book'].value_counts().plot(kind='bar')\n",
    "plt.show"
   ]
  },
  {
   "cell_type": "markdown",
   "id": "57a8e60a",
   "metadata": {},
   "source": [
    "Get names of book text  "
   ]
  },
  {
   "cell_type": "code",
   "execution_count": 11,
   "id": "dc026a41",
   "metadata": {},
   "outputs": [
    {
     "data": {
      "text/plain": [
       "[<DirEntry '1 The Last Wish.txt'>,\n",
       " <DirEntry '2 The Sword of Destiny.txt'>,\n",
       " <DirEntry '3 Blood of Elves.txt'>,\n",
       " <DirEntry '4 Times of Contempt.txt'>,\n",
       " <DirEntry '5 Baptism of Fire.txt'>,\n",
       " <DirEntry '6 The Tower of the Swallow.txt'>,\n",
       " <DirEntry '7 The Lady of the Lake.txt'>,\n",
       " <DirEntry '8 something ends something begins.txt'>]"
      ]
     },
     "execution_count": 11,
     "metadata": {},
     "output_type": "execute_result"
    }
   ],
   "source": [
    "all_books = [b for b in os.scandir('..\\..\\data') if '.txt' in b.name]\n",
    "all_books"
   ]
  },
  {
   "cell_type": "markdown",
   "id": "5889e5d1",
   "metadata": {},
   "source": [
    "Read Books & pass to spacy's NER "
   ]
  },
  {
   "cell_type": "code",
   "execution_count": 12,
   "id": "2b121faa",
   "metadata": {},
   "outputs": [],
   "source": [
    "book = all_books[0]\n",
    "book_text = open(book).read()\n",
    "book_doc = NER(book_text)"
   ]
  },
  {
   "cell_type": "code",
   "execution_count": 13,
   "id": "32f1b104",
   "metadata": {},
   "outputs": [
    {
     "name": "stderr",
     "output_type": "stream",
     "text": [
      "C:\\Users\\ammad\\AppData\\Local\\Temp\\ipykernel_7220\\2368929191.py:2: FutureWarning: Possible nested set at position 1\n",
      "  chardf['Character'] = chardf['Character'].apply(lambda x: re.sub(\"[[\\(.*?\\)]]\", \"\", x))\n"
     ]
    }
   ],
   "source": [
    "# Replace all separators by \" \"\n",
    "chardf['Character'] = chardf['Character'].apply(lambda x: re.sub(\"[[\\(.*?\\)]]\", \"\", x))\n",
    "# Get First names only\n",
    "chardf['character_firstname'] = chardf['Character'].apply(lambda x: x.split(\" \",1)[0] )\n",
    "# chardf.head(9)"
   ]
  },
  {
   "cell_type": "code",
   "execution_count": 14,
   "id": "627938c1",
   "metadata": {},
   "outputs": [],
   "source": [
    "# chardf.to_csv(\"chardf_fnames.csv\")"
   ]
  },
  {
   "cell_type": "markdown",
   "id": "4e1e3361",
   "metadata": {},
   "source": [
    "Iterate through sentences and create DataFrame of entities "
   ]
  },
  {
   "cell_type": "code",
   "execution_count": 15,
   "id": "c7652b6b",
   "metadata": {},
   "outputs": [],
   "source": [
    "sent_entity=[]\n",
    "# doc.sents Iterate over the sentences in the document\n",
    "# sent.ents grabs all entities in the sentence\n",
    "for sent in book_doc.sents:\n",
    "    entity_list = [ent.text for ent in sent.ents]\n",
    "    sent_entity.append({\"sentence\":sent, \"entities\":entity_list})\n",
    "sent_entity_df = pd.DataFrame(sent_entity)\n",
    "# sent_entity_df"
   ]
  },
  {
   "cell_type": "code",
   "execution_count": 16,
   "id": "07f47362",
   "metadata": {},
   "outputs": [
    {
     "data": {
      "text/html": [
       "<div>\n",
       "<style scoped>\n",
       "    .dataframe tbody tr th:only-of-type {\n",
       "        vertical-align: middle;\n",
       "    }\n",
       "\n",
       "    .dataframe tbody tr th {\n",
       "        vertical-align: top;\n",
       "    }\n",
       "\n",
       "    .dataframe thead th {\n",
       "        text-align: right;\n",
       "    }\n",
       "</style>\n",
       "<table border=\"1\" class=\"dataframe\">\n",
       "  <thead>\n",
       "    <tr style=\"text-align: right;\">\n",
       "      <th></th>\n",
       "      <th>sentence</th>\n",
       "      <th>entities</th>\n",
       "    </tr>\n",
       "  </thead>\n",
       "  <tbody>\n",
       "    <tr>\n",
       "      <th>0</th>\n",
       "      <td>(ï»¿'Does, she, always, devour, her, victims, ...</td>\n",
       "      <td>[]</td>\n",
       "    </tr>\n",
       "    <tr>\n",
       "      <th>1</th>\n",
       "      <td>(\\n\\n, Velerad, spat, vehemently, on, the, str...</td>\n",
       "      <td>[Velerad]</td>\n",
       "    </tr>\n",
       "    <tr>\n",
       "      <th>2</th>\n",
       "      <td>(\\n\\n, ', Come, on, ,, Geralt, ,, it, 'll, be,...</td>\n",
       "      <td>[]</td>\n",
       "    </tr>\n",
       "    <tr>\n",
       "      <th>3</th>\n",
       "      <td>(Pish, !)</td>\n",
       "      <td>[]</td>\n",
       "    </tr>\n",
       "    <tr>\n",
       "      <th>4</th>\n",
       "      <td>(Devours, ,, takes, a, bite, ,, leaves, aside,...</td>\n",
       "      <td>[]</td>\n",
       "    </tr>\n",
       "    <tr>\n",
       "      <th>5</th>\n",
       "      <td>(She, only, bit, the, head, from, one, ,, gutt...</td>\n",
       "      <td>[]</td>\n",
       "    </tr>\n",
       "    <tr>\n",
       "      <th>6</th>\n",
       "      <td>(Damned, mother's-, !, ')</td>\n",
       "      <td>[]</td>\n",
       "    </tr>\n",
       "    <tr>\n",
       "      <th>7</th>\n",
       "      <td>(\\n\\n, ', Careful, ,, Velerad, ,, ', snarled, ...</td>\n",
       "      <td>[Velerad, Ostrit]</td>\n",
       "    </tr>\n",
       "    <tr>\n",
       "      <th>8</th>\n",
       "      <td>(Say, what, you, want, about, the, striga, but...</td>\n",
       "      <td>[]</td>\n",
       "    </tr>\n",
       "    <tr>\n",
       "      <th>9</th>\n",
       "      <td>(\\n\\n, ', Has, anyone, she, 's, attacked, surv...</td>\n",
       "      <td>[]</td>\n",
       "    </tr>\n",
       "    <tr>\n",
       "      <th>10</th>\n",
       "      <td>(The, witcher, asked, ,, apparently, paying, n...</td>\n",
       "      <td>[]</td>\n",
       "    </tr>\n",
       "    <tr>\n",
       "      <th>11</th>\n",
       "      <td>(\\n\\n, Segelin, and, Ostrit, looked, at, each,...</td>\n",
       "      <td>[Segelin, Ostrit]</td>\n",
       "    </tr>\n",
       "    <tr>\n",
       "      <th>12</th>\n",
       "      <td>(\\n\\n, ')</td>\n",
       "      <td>[]</td>\n",
       "    </tr>\n",
       "    <tr>\n",
       "      <th>13</th>\n",
       "      <td>(Yes, ,, ', said, the, bearded, man, ., ')</td>\n",
       "      <td>[]</td>\n",
       "    </tr>\n",
       "    <tr>\n",
       "      <th>14</th>\n",
       "      <td>(At, the, very, beginning, ,, seven, years, ag...</td>\n",
       "      <td>[seven years ago, two]</td>\n",
       "    </tr>\n",
       "  </tbody>\n",
       "</table>\n",
       "</div>"
      ],
      "text/plain": [
       "                                             sentence                entities\n",
       "0   (ï»¿'Does, she, always, devour, her, victims, ...                      []\n",
       "1   (\\n\\n, Velerad, spat, vehemently, on, the, str...               [Velerad]\n",
       "2   (\\n\\n, ', Come, on, ,, Geralt, ,, it, 'll, be,...                      []\n",
       "3                                           (Pish, !)                      []\n",
       "4   (Devours, ,, takes, a, bite, ,, leaves, aside,...                      []\n",
       "5   (She, only, bit, the, head, from, one, ,, gutt...                      []\n",
       "6                           (Damned, mother's-, !, ')                      []\n",
       "7   (\\n\\n, ', Careful, ,, Velerad, ,, ', snarled, ...       [Velerad, Ostrit]\n",
       "8   (Say, what, you, want, about, the, striga, but...                      []\n",
       "9   (\\n\\n, ', Has, anyone, she, 's, attacked, surv...                      []\n",
       "10  (The, witcher, asked, ,, apparently, paying, n...                      []\n",
       "11  (\\n\\n, Segelin, and, Ostrit, looked, at, each,...       [Segelin, Ostrit]\n",
       "12                                          (\\n\\n, ')                      []\n",
       "13         (Yes, ,, ', said, the, bearded, man, ., ')                      []\n",
       "14  (At, the, very, beginning, ,, seven, years, ag...  [seven years ago, two]"
      ]
     },
     "execution_count": 16,
     "metadata": {},
     "output_type": "execute_result"
    }
   ],
   "source": [
    "sent_entity_df.head(15)"
   ]
  },
  {
   "cell_type": "markdown",
   "id": "3fcef916",
   "metadata": {},
   "source": [
    "Function filter_entity filters entities passed from chardf_fnames to match names"
   ]
  },
  {
   "cell_type": "code",
   "execution_count": 17,
   "id": "d2100140",
   "metadata": {},
   "outputs": [],
   "source": [
    "def filter_entity(ent_list, chardf):\n",
    "    return[ent for ent in ent_list\n",
    "          if ent in list(chardf.Character)\n",
    "          or ent in list(chardf.character_firstname)]"
   ]
  },
  {
   "cell_type": "code",
   "execution_count": 18,
   "id": "5b654bdf",
   "metadata": {},
   "outputs": [
    {
     "data": {
      "text/html": [
       "<div>\n",
       "<style scoped>\n",
       "    .dataframe tbody tr th:only-of-type {\n",
       "        vertical-align: middle;\n",
       "    }\n",
       "\n",
       "    .dataframe tbody tr th {\n",
       "        vertical-align: top;\n",
       "    }\n",
       "\n",
       "    .dataframe thead th {\n",
       "        text-align: right;\n",
       "    }\n",
       "</style>\n",
       "<table border=\"1\" class=\"dataframe\">\n",
       "  <thead>\n",
       "    <tr style=\"text-align: right;\">\n",
       "      <th></th>\n",
       "      <th>sentence</th>\n",
       "      <th>entities</th>\n",
       "      <th>character_entities</th>\n",
       "    </tr>\n",
       "  </thead>\n",
       "  <tbody>\n",
       "    <tr>\n",
       "      <th>1</th>\n",
       "      <td>(\\n\\n, Velerad, spat, vehemently, on, the, str...</td>\n",
       "      <td>[Velerad]</td>\n",
       "      <td>[Velerad]</td>\n",
       "    </tr>\n",
       "    <tr>\n",
       "      <th>7</th>\n",
       "      <td>(\\n\\n, ', Careful, ,, Velerad, ,, ', snarled, ...</td>\n",
       "      <td>[Velerad, Ostrit]</td>\n",
       "      <td>[Velerad, Ostrit]</td>\n",
       "    </tr>\n",
       "    <tr>\n",
       "      <th>11</th>\n",
       "      <td>(\\n\\n, Segelin, and, Ostrit, looked, at, each,...</td>\n",
       "      <td>[Segelin, Ostrit]</td>\n",
       "      <td>[Segelin, Ostrit]</td>\n",
       "    </tr>\n",
       "    <tr>\n",
       "      <th>16</th>\n",
       "      <td>(And, then, ,, ', interrupted, Velerad, ,, ', ...</td>\n",
       "      <td>[Velerad]</td>\n",
       "      <td>[Velerad]</td>\n",
       "    </tr>\n",
       "    <tr>\n",
       "      <th>27</th>\n",
       "      <td>(\\n\\n, Having, finished, his, examination, Ger...</td>\n",
       "      <td>[Geralt]</td>\n",
       "      <td>[Geralt]</td>\n",
       "    </tr>\n",
       "    <tr>\n",
       "      <th>30</th>\n",
       "      <td>(It, was, Foltest, himself, .)</td>\n",
       "      <td>[Foltest]</td>\n",
       "      <td>[Foltest]</td>\n",
       "    </tr>\n",
       "    <tr>\n",
       "      <th>62</th>\n",
       "      <td>(\\n\\n, Yes, ,, ', Foltest, bristled, ., ')</td>\n",
       "      <td>[Foltest]</td>\n",
       "      <td>[Foltest]</td>\n",
       "    </tr>\n",
       "    <tr>\n",
       "      <th>74</th>\n",
       "      <td>(\\n\\n, Foltest, looked, the, Rivian, in, the, ...</td>\n",
       "      <td>[Foltest, Rivian]</td>\n",
       "      <td>[Foltest]</td>\n",
       "    </tr>\n",
       "    <tr>\n",
       "      <th>83</th>\n",
       "      <td>(\\n\\n, Foltest, got, up, ., ')</td>\n",
       "      <td>[Foltest]</td>\n",
       "      <td>[Foltest]</td>\n",
       "    </tr>\n",
       "    <tr>\n",
       "      <th>123</th>\n",
       "      <td>(\\n\\n, Foltest, grew, gloomy, .)</td>\n",
       "      <td>[Foltest]</td>\n",
       "      <td>[Foltest]</td>\n",
       "    </tr>\n",
       "    <tr>\n",
       "      <th>141</th>\n",
       "      <td>(\\n\\n, Foltest, grew, pensive, ., ')</td>\n",
       "      <td>[Foltest]</td>\n",
       "      <td>[Foltest]</td>\n",
       "    </tr>\n",
       "    <tr>\n",
       "      <th>155</th>\n",
       "      <td>(For, the, first, time, Foltest, called, the, ...</td>\n",
       "      <td>[first, Foltest]</td>\n",
       "      <td>[Foltest]</td>\n",
       "    </tr>\n",
       "    <tr>\n",
       "      <th>157</th>\n",
       "      <td>(\\n\\n, ', How, much, truth, is, there, in, the...</td>\n",
       "      <td>[Adda]</td>\n",
       "      <td>[Adda]</td>\n",
       "    </tr>\n",
       "    <tr>\n",
       "      <th>186</th>\n",
       "      <td>(Do, you, know, what, ,, Geralt, ?)</td>\n",
       "      <td>[Geralt]</td>\n",
       "      <td>[Geralt]</td>\n",
       "    </tr>\n",
       "    <tr>\n",
       "      <th>215</th>\n",
       "      <td>(He, did, n't, confirm, it, ,, did, n't, nod, ...</td>\n",
       "      <td>[Foltest]</td>\n",
       "      <td>[Foltest]</td>\n",
       "    </tr>\n",
       "  </tbody>\n",
       "</table>\n",
       "</div>"
      ],
      "text/plain": [
       "                                              sentence           entities  \\\n",
       "1    (\\n\\n, Velerad, spat, vehemently, on, the, str...          [Velerad]   \n",
       "7    (\\n\\n, ', Careful, ,, Velerad, ,, ', snarled, ...  [Velerad, Ostrit]   \n",
       "11   (\\n\\n, Segelin, and, Ostrit, looked, at, each,...  [Segelin, Ostrit]   \n",
       "16   (And, then, ,, ', interrupted, Velerad, ,, ', ...          [Velerad]   \n",
       "27   (\\n\\n, Having, finished, his, examination, Ger...           [Geralt]   \n",
       "30                      (It, was, Foltest, himself, .)          [Foltest]   \n",
       "62          (\\n\\n, Yes, ,, ', Foltest, bristled, ., ')          [Foltest]   \n",
       "74   (\\n\\n, Foltest, looked, the, Rivian, in, the, ...  [Foltest, Rivian]   \n",
       "83                      (\\n\\n, Foltest, got, up, ., ')          [Foltest]   \n",
       "123                   (\\n\\n, Foltest, grew, gloomy, .)          [Foltest]   \n",
       "141               (\\n\\n, Foltest, grew, pensive, ., ')          [Foltest]   \n",
       "155  (For, the, first, time, Foltest, called, the, ...   [first, Foltest]   \n",
       "157  (\\n\\n, ', How, much, truth, is, there, in, the...             [Adda]   \n",
       "186                (Do, you, know, what, ,, Geralt, ?)           [Geralt]   \n",
       "215  (He, did, n't, confirm, it, ,, did, n't, nod, ...          [Foltest]   \n",
       "\n",
       "    character_entities  \n",
       "1            [Velerad]  \n",
       "7    [Velerad, Ostrit]  \n",
       "11   [Segelin, Ostrit]  \n",
       "16           [Velerad]  \n",
       "27            [Geralt]  \n",
       "30           [Foltest]  \n",
       "62           [Foltest]  \n",
       "74           [Foltest]  \n",
       "83           [Foltest]  \n",
       "123          [Foltest]  \n",
       "141          [Foltest]  \n",
       "155          [Foltest]  \n",
       "157             [Adda]  \n",
       "186           [Geralt]  \n",
       "215          [Foltest]  "
      ]
     },
     "execution_count": 18,
     "metadata": {},
     "output_type": "execute_result"
    }
   ],
   "source": [
    "sent_entity_df['character_entities'] = sent_entity_df['entities'].apply(lambda x:filter_entity(x, chardf))\n",
    "\n",
    "sent_entity_df_filtered = sent_entity_df[sent_entity_df['character_entities'].map(len)>0]\n",
    "sent_entity_df_filtered.head(15)"
   ]
  },
  {
   "cell_type": "markdown",
   "id": "da8b4bd9",
   "metadata": {},
   "source": [
    "Look for Relationships over a window of 5 sentences"
   ]
  },
  {
   "cell_type": "code",
   "execution_count": 22,
   "id": "d6ebfedc",
   "metadata": {},
   "outputs": [],
   "source": [
    "window_size = 5\n",
    "relationships = []\n",
    "for i in range(sent_entity_df_filtered.index[-1]):\n",
    "    end_i = min(i+5, sent_entity_df_filtered.index[-1])\n",
    "    char_list = sum( (sent_entity_df_filtered.loc[i: end_i].character_entities), [])\n",
    "    \n",
    "    char_unique = [char_list[i] for i in range (len(char_list))\n",
    "                  if (i==0) or char_list[i] != char_list[i-1]]\n",
    "    \n",
    "    if len(char_unique)>1:\n",
    "        for idx, a in enumerate(char_unique[:-1]):\n",
    "            b = char_unique[idx +1]\n",
    "            relationships.append({'source':a, 'target':b})\n",
    "relationship_df=pd.DataFrame(relationships)"
   ]
  },
  {
   "cell_type": "code",
   "execution_count": 23,
   "id": "d20d3631",
   "metadata": {},
   "outputs": [
    {
     "data": {
      "text/html": [
       "<div>\n",
       "<style scoped>\n",
       "    .dataframe tbody tr th:only-of-type {\n",
       "        vertical-align: middle;\n",
       "    }\n",
       "\n",
       "    .dataframe tbody tr th {\n",
       "        vertical-align: top;\n",
       "    }\n",
       "\n",
       "    .dataframe thead th {\n",
       "        text-align: right;\n",
       "    }\n",
       "</style>\n",
       "<table border=\"1\" class=\"dataframe\">\n",
       "  <thead>\n",
       "    <tr style=\"text-align: right;\">\n",
       "      <th></th>\n",
       "      <th>source</th>\n",
       "      <th>target</th>\n",
       "    </tr>\n",
       "  </thead>\n",
       "  <tbody>\n",
       "    <tr>\n",
       "      <th>0</th>\n",
       "      <td>Velerad</td>\n",
       "      <td>Ostrit</td>\n",
       "    </tr>\n",
       "    <tr>\n",
       "      <th>1</th>\n",
       "      <td>Velerad</td>\n",
       "      <td>Ostrit</td>\n",
       "    </tr>\n",
       "    <tr>\n",
       "      <th>2</th>\n",
       "      <td>Velerad</td>\n",
       "      <td>Ostrit</td>\n",
       "    </tr>\n",
       "    <tr>\n",
       "      <th>3</th>\n",
       "      <td>Velerad</td>\n",
       "      <td>Ostrit</td>\n",
       "    </tr>\n",
       "    <tr>\n",
       "      <th>4</th>\n",
       "      <td>Velerad</td>\n",
       "      <td>Ostrit</td>\n",
       "    </tr>\n",
       "    <tr>\n",
       "      <th>...</th>\n",
       "      <td>...</td>\n",
       "      <td>...</td>\n",
       "    </tr>\n",
       "    <tr>\n",
       "      <th>1126</th>\n",
       "      <td>Iola</td>\n",
       "      <td>Nenneke</td>\n",
       "    </tr>\n",
       "    <tr>\n",
       "      <th>1127</th>\n",
       "      <td>Iola</td>\n",
       "      <td>Nenneke</td>\n",
       "    </tr>\n",
       "    <tr>\n",
       "      <th>1128</th>\n",
       "      <td>Geralt</td>\n",
       "      <td>Nenneke</td>\n",
       "    </tr>\n",
       "    <tr>\n",
       "      <th>1129</th>\n",
       "      <td>Geralt</td>\n",
       "      <td>Nenneke</td>\n",
       "    </tr>\n",
       "    <tr>\n",
       "      <th>1130</th>\n",
       "      <td>Geralt</td>\n",
       "      <td>Nenneke</td>\n",
       "    </tr>\n",
       "  </tbody>\n",
       "</table>\n",
       "<p>1131 rows × 2 columns</p>\n",
       "</div>"
      ],
      "text/plain": [
       "       source   target\n",
       "0     Velerad   Ostrit\n",
       "1     Velerad   Ostrit\n",
       "2     Velerad   Ostrit\n",
       "3     Velerad   Ostrit\n",
       "4     Velerad   Ostrit\n",
       "...       ...      ...\n",
       "1126     Iola  Nenneke\n",
       "1127     Iola  Nenneke\n",
       "1128   Geralt  Nenneke\n",
       "1129   Geralt  Nenneke\n",
       "1130   Geralt  Nenneke\n",
       "\n",
       "[1131 rows x 2 columns]"
      ]
     },
     "execution_count": 23,
     "metadata": {},
     "output_type": "execute_result"
    }
   ],
   "source": [
    "relationship_df"
   ]
  },
  {
   "cell_type": "code",
   "execution_count": 24,
   "id": "abd70fd4",
   "metadata": {},
   "outputs": [],
   "source": [
    "# Sort values\n",
    "relationship_df = pd.DataFrame(np.sort(relationship_df.values, axis=1), columns=relationship_df.columns)\n",
    "# create value colum with defualt value of 1\n",
    "# group - then sum\n",
    "relationship_df['value']=1\n",
    "relationship_df = relationship_df.groupby(['source', 'target'], sort=False, as_index=False).sum()"
   ]
  },
  {
   "cell_type": "markdown",
   "id": "7553546d",
   "metadata": {},
   "source": [
    "Graph Analysis and visualisation\n",
    "\n",
    "- Network diagrams (also called Graphs) show interconnections between a set of entities. Each entity is represented by a Node (or vertice). Connections between nodes are represented through links (or edges)."
   ]
  },
  {
   "cell_type": "code",
   "execution_count": 25,
   "id": "cd5ddfa6",
   "metadata": {},
   "outputs": [],
   "source": [
    "G= nx.from_pandas_edgelist(relationship_df,\n",
    "                         source = 'source',\n",
    "                         target = 'target',\n",
    "                         edge_attr = 'value',\n",
    "                         create_using = nx.Graph())"
   ]
  },
  {
   "cell_type": "code",
   "execution_count": 26,
   "id": "d14045a5",
   "metadata": {},
   "outputs": [
    {
     "data": {
      "image/png": "[encoded data removed]",
      "text/plain": [
       "<Figure size 432x288 with 1 Axes>"
      ]
     },
     "metadata": {},
     "output_type": "display_data"
    }
   ],
   "source": [
    "# graph visualisation using kamada_kawai_layout\n",
    "\n",
    "pos = nx.kamada_kawai_layout(G)\n",
    "nx.draw(G, with_labels=True, node_color='skyblue', edge_cmap=plt.cm.Blues, pos=pos)\n",
    "plt.show()"
   ]
  },
  {
   "cell_type": "raw",
   "id": "97598fd9",
   "metadata": {},
   "source": [
    "Graph with pyvis "
   ]
  },
  {
   "cell_type": "code",
   "execution_count": 27,
   "id": "298ff620",
   "metadata": {},
   "outputs": [
    {
     "data": {
      "text/html": [
       "\n",
       "        <iframe\n",
       "            width=\"1000px\"\n",
       "            height=\"700px\"\n",
       "            src=\"witcher.html\"\n",
       "            frameborder=\"0\"\n",
       "            allowfullscreen\n",
       "            \n",
       "        ></iframe>\n",
       "        "
      ],
      "text/plain": [
       "<IPython.lib.display.IFrame at 0x27c00e4d970>"
      ]
     },
     "execution_count": 27,
     "metadata": {},
     "output_type": "execute_result"
    }
   ],
   "source": [
    "net = Network(notebook=True, width='1000px', height='700px', bgcolor='#222222', font_color='white')\n",
    "\n",
    "# A DegreeView for the Graph as G.degree or G.degree().\n",
    "# The node degree is the number of edges adjacent to the node. \n",
    "\n",
    "node_degree= dict(G.degree)\n",
    "# set_node_attributes(G, values, name=None)\n",
    "nx.set_node_attributes(G, node_degree, \"size\")\n",
    "\n",
    "net.from_nx(G)\n",
    "net.show('witcher.html')"
   ]
  },
  {
   "cell_type": "markdown",
   "id": "e69ffcfe",
   "metadata": {},
   "source": [
    "Find the best partition of a graph using the Louvain Community Detection Algorithm"
   ]
  },
  {
   "cell_type": "code",
   "execution_count": 28,
   "id": "21e6ea67",
   "metadata": {},
   "outputs": [],
   "source": [
    "communities = community_louvain.best_partition(G)"
   ]
  },
  {
   "cell_type": "code",
   "execution_count": 30,
   "id": "5c67ad19",
   "metadata": {
    "scrolled": true
   },
   "outputs": [
    {
     "data": {
      "text/html": [
       "\n",
       "        <iframe\n",
       "            width=\"1000px\"\n",
       "            height=\"700px\"\n",
       "            src=\"witcher.html\"\n",
       "            frameborder=\"0\"\n",
       "            allowfullscreen\n",
       "            \n",
       "        ></iframe>\n",
       "        "
      ],
      "text/plain": [
       "<IPython.lib.display.IFrame at 0x27c00e90700>"
      ]
     },
     "execution_count": 30,
     "metadata": {},
     "output_type": "execute_result"
    }
   ],
   "source": [
    "nx.set_node_attributes(G, communities, 'group')\n",
    "net = Network(notebook=True, width='1000px', height='700px', bgcolor='#222222', font_color='white')\n",
    "\n",
    "net.from_nx(G)\n",
    "net.show('witcher.html')"
   ]
  }
 ],
 "metadata": {
  "kernelspec": {
   "display_name": "Python 3 (ipykernel)",
   "language": "python",
   "name": "python3"
  },
  "language_info": {
   "codemirror_mode": {
    "name": "ipython",
    "version": 3
   },
   "file_extension": ".py",
   "mimetype": "text/x-python",
   "name": "python",
   "nbconvert_exporter": "python",
   "pygments_lexer": "ipython3",
   "version": "3.9.12"
  }
 },
 "nbformat": 4,
 "nbformat_minor": 5
}
