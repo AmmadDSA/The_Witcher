{
 "cells": [
  {
   "cell_type": "code",
   "execution_count": 1,
   "id": "b8d0cb0f",
   "metadata": {
    "collapsed": true
   },
   "outputs": [
    {
     "name": "stdout",
     "output_type": "stream",
     "text": [
      "Requirement already satisfied: selenium==3.141.0 in c:\\python39\\lib\\site-packages (3.141.0)\n",
      "Requirement already satisfied: urllib3 in c:\\python39\\lib\\site-packages (from selenium==3.141.0) (1.26.8)\n",
      "\n",
      "[notice] A new release of pip available: 22.1.2 -> 22.2\n",
      "[notice] To update, run: C:\\Python39\\python.exe -m pip install --upgrade pip\n",
      "Note: you may need to restart the kernel to use updated packages.\n"
     ]
    },
    {
     "name": "stderr",
     "output_type": "stream",
     "text": [
      "WARNING: Ignoring invalid distribution -acy (c:\\python39\\lib\\site-packages)\n",
      "WARNING: Ignoring invalid distribution -pacy (c:\\python39\\lib\\site-packages)\n",
      "WARNING: Ignoring invalid distribution -ip (c:\\python39\\lib\\site-packages)\n",
      "WARNING: Ignoring invalid distribution - (c:\\python39\\lib\\site-packages)\n",
      "WARNING: Ignoring invalid distribution -acy (c:\\python39\\lib\\site-packages)\n",
      "WARNING: Ignoring invalid distribution -pacy (c:\\python39\\lib\\site-packages)\n",
      "WARNING: Ignoring invalid distribution -ip (c:\\python39\\lib\\site-packages)\n",
      "WARNING: Ignoring invalid distribution - (c:\\python39\\lib\\site-packages)\n",
      "WARNING: Ignoring invalid distribution -acy (c:\\python39\\lib\\site-packages)\n",
      "WARNING: Ignoring invalid distribution -pacy (c:\\python39\\lib\\site-packages)\n",
      "WARNING: Ignoring invalid distribution -ip (c:\\python39\\lib\\site-packages)\n",
      "WARNING: Ignoring invalid distribution - (c:\\python39\\lib\\site-packages)\n",
      "WARNING: Ignoring invalid distribution -acy (c:\\python39\\lib\\site-packages)\n",
      "WARNING: Ignoring invalid distribution -pacy (c:\\python39\\lib\\site-packages)\n",
      "WARNING: Ignoring invalid distribution -ip (c:\\python39\\lib\\site-packages)\n",
      "WARNING: Ignoring invalid distribution - (c:\\python39\\lib\\site-packages)\n",
      "WARNING: Ignoring invalid distribution -acy (c:\\python39\\lib\\site-packages)\n",
      "WARNING: Ignoring invalid distribution -pacy (c:\\python39\\lib\\site-packages)\n",
      "WARNING: Ignoring invalid distribution -ip (c:\\python39\\lib\\site-packages)\n",
      "WARNING: Ignoring invalid distribution - (c:\\python39\\lib\\site-packages)\n",
      "WARNING: Ignoring invalid distribution -acy (c:\\python39\\lib\\site-packages)\n",
      "WARNING: Ignoring invalid distribution -pacy (c:\\python39\\lib\\site-packages)\n",
      "WARNING: Ignoring invalid distribution -ip (c:\\python39\\lib\\site-packages)\n",
      "WARNING: Ignoring invalid distribution - (c:\\python39\\lib\\site-packages)\n"
     ]
    }
   ],
   "source": [
    "pip install selenium==3.141.0"
   ]
  },
  {
   "cell_type": "code",
   "execution_count": 9,
   "id": "82e6c316",
   "metadata": {},
   "outputs": [],
   "source": [
    "import pandas as pd\n",
    "import time\n",
    "import selenium\n",
    "from selenium import webdriver\n",
    "from webdriver_manager.chrome import ChromeDriverManager"
   ]
  },
  {
   "cell_type": "markdown",
   "id": "35a02fd5",
   "metadata": {},
   "source": [
    "Define driver object"
   ]
  },
  {
   "cell_type": "code",
   "execution_count": 10,
   "id": "179e6e34",
   "metadata": {
    "scrolled": true
   },
   "outputs": [
    {
     "name": "stdout",
     "output_type": "stream",
     "text": [
      "\n"
     ]
    },
    {
     "name": "stderr",
     "output_type": "stream",
     "text": [
      "[WDM] - ====== WebDriver manager ======\n",
      "[WDM] - Current google-chrome version is 103.0.5060\n",
      "[WDM] - Get LATEST chromedriver version for 103.0.5060 google-chrome\n",
      "[WDM] - Driver [C:\\Users\\ammad\\.wdm\\drivers\\chromedriver\\win32\\103.0.5060.134\\chromedriver.exe] found in cache\n"
     ]
    }
   ],
   "source": [
    "driver = webdriver.Chrome(ChromeDriverManager().install())"
   ]
  },
  {
   "cell_type": "markdown",
   "id": "fd679809",
   "metadata": {},
   "source": [
    "Push page url to get list of charachters for the witcher book using witcher fanpage \"https://witcher.fandom.com/wiki/Category:Characters_in_the_stories\""
   ]
  },
  {
   "cell_type": "code",
   "execution_count": 11,
   "id": "6aa56cc2",
   "metadata": {},
   "outputs": [],
   "source": [
    "page_url = \"https://witcher.fandom.com/wiki/Category:Characters_in_the_stories\"\n",
    "driver.get(page_url)"
   ]
  },
  {
   "cell_type": "markdown",
   "id": "ad51e08f",
   "metadata": {},
   "source": []
  },
  {
   "cell_type": "code",
   "execution_count": 12,
   "id": "747d45e7",
   "metadata": {},
   "outputs": [],
   "source": [
    "book_cat = driver.find_elements_by_class_name('category-page__member-link')\n",
    "# for item in book_cat:\n",
    "#     print(item.text)\n",
    "\n",
    "# make a list \"books\" that has book name and its link\n",
    "books = []\n",
    "for item in book_cat:\n",
    "    book_name=item.text\n",
    "    link=item.get_attribute('href')\n",
    "    books.append({'Name':book_name, 'Link':link})\n",
    "\n",
    "# direct driver to book link and append the name of characheter to list \"chars\"\n",
    "# use time.sleep to allow for the page to load\n",
    "chars=[]\n",
    "for book in books:\n",
    "    driver.get(book['Link'])\n",
    "    time.sleep(2)\n",
    "    char_names= driver.find_elements_by_class_name('category-page__member-link')\n",
    "    for item in char_names:\n",
    "        chars.append({'Book':book['Name'], 'Character':item.text})\n"
   ]
  },
  {
   "cell_type": "code",
   "execution_count": null,
   "id": "79cf363c",
   "metadata": {},
   "outputs": [],
   "source": [
    "# create a dataframe and pass the list \"chars\" to it\n",
    "chardf=pd.DataFrame(chars)\n",
    "chardf"
   ]
  }
 ],
 "metadata": {
  "kernelspec": {
   "display_name": "Python 3 (ipykernel)",
   "language": "python",
   "name": "python3"
  },
  "language_info": {
   "codemirror_mode": {
    "name": "ipython",
    "version": 3
   },
   "file_extension": ".py",
   "mimetype": "text/x-python",
   "name": "python",
   "nbconvert_exporter": "python",
   "pygments_lexer": "ipython3",
   "version": "3.9.6"
  }
 },
 "nbformat": 4,
 "nbformat_minor": 5
}
